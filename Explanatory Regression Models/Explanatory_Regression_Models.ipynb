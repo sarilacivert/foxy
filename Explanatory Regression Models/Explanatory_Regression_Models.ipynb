{
 "cells": [
  {
   "cell_type": "markdown",
   "metadata": {},
   "source": [
    "# A Data Science Perspective on U.S. Stock Returns by John Foxworthy\n",
    "\n",
    "\n",
    "\n",
    "\n",
    "\n",
    "\n",
    "# Abstract\n",
    "\n",
    "What drives U.S. Equity Returns? Are there any characteristics that explain the differences in stock returns? Can good features illustrate the entire nature of stock prices?\n",
    "\n",
    "For this project, I use a Data Science perspective, which applies statistical techniques to a business case with some tools of software development, especially Python.  Overall, business cases can vary from marketing, pharmaceutical, public policy to other sectors, but we will focus on finance.  The chosen data set is described with narrative analytics, class imbalance and addresses any concerns about data bias.  The models are the classical multiple linear regression checked with In Sample Evalution and Cross Validation Scores followed by Ridge Regression.  Contemporary models proceed with Random Forest and Support Vector Regression.  All models are coupled with data visualizations and   Supervised Learning is the only domain of this project, where models have a known outcome such as stock market returns.  I build the case for the small value company narrative. I, also address the issue of overfitting for the performance of six portfolios from July 1926 to June 2018, on a monthly frequency, against the three independent drivers of stock returns.  All models results are compared. \n",
    "\n",
    "# Introduction\n",
    "\n",
    "People in the financial markets have long been interested on the background of stock prices. Colloquial and academic theories rise and fall, like stock prices over decades of observations. Progress has been made first with better data, then financial knowledge followed by the science of statistics. Only testable explanations can shed light on the viable understanding on how U.S. stock markets work. Explanations without testing, sooner or later, lead to impracticality with a financial loss. Many scholars and practitioners have been selecting and examining various features, with various test results on the nature of stock market returns. Sometimes beliefs on the stock market do not change with good statistical tests that claim otherwise. Or good intuition on the nature of the stock market have no test results. Nonetheless, there is only one narrative analytics that dominates above the rest.\n",
    "\n",
    "In 2013, Eugene Fama of the University of Chicago, received the Nobel Memorial Prize in Economic Sciences for his life’s work on financial economics. Together with Kenneth French, who was also at the University of Chicago at the time, wrote a seminal research paper on stock market returns in 1993. The Fama – French Three – Factor Model with strong scientific evidence coupled with an outstanding data set used a multiple linear regression model to explain the nature of U.S. stock market returns. Beyond awards, the research paper is one of the most cited research papers in all of academia, i.e. the top 5% of the many thousands according to the reputable Social Science Research Network. Both Fama and French have facilitated the fecundity of feature based investing in the field of financial econometrics. Many academics and professionals in the financial services industry have used the foundation of their model to understand the rates of return in the stock market and have expanded or even altered the features to other products in the financial markets.\n",
    "\n",
    "# Data Selection and Bias\n",
    "\n",
    "Unlike many other business sectors, the financial services industry and its financial data is widely available because there are financial incentives to invest. The free and commercial publishing of stock market information has been around for decades, if not a century, which eases data selection for data scientists. If there are any data discrepancies, gaps or limitations, then there are resources for a remedy funded by financial institutions. Before the formal job title of a Data Engineer, and orginally beginning in 1962, the Center for Research on Security Prices (CRSP) at the University of Chicago have a strong historical stock data set. Originally academic with some help of government and commmericial interests over the decades, the data integrity and the data reliabliity of CRSP, was driven primarily by the financial incentives to invest in the U.S. Stock Market.\n",
    "\n",
    "Like with all data selection, however, there can be biases and one in particular required great care to be removed in the initial years, according to CRSP. Survivorship bias, a type of selection bias, is the proclivity of removing failed companies to potentially skew results, usually because of a lack of resources. Specially, as we shall see later below, small companies who are greater in number, rather than larger companies, have great significance in U.S. stock market returns. The economics of competition, the business of mismanagement, running out of cash financially are just a few reasons why small companies fail. Officially, the U.S. Bureau of Labor Statistics in March of 2017 claims 20% of small business fail in the first year and 50% fail in the fifth year. Of course, the majority of companies in the U.S. are not public because of the associated costs and risk of business regulations, but this theme of small company capture in data sets played an important role for devleloping relevant narrative analytics. When a successful small company is acquired, then it no longer trades in the stock market, just as a financially troubled small company that can go bankrupt. The former scenario by name and price becomes apart of the acquired company and the latter scenario stops pricing altogether. If data selection only counted the survivors, that is the companies that exist in name and are in business only, then the representation of small companies would be inaccurate.\n",
    "\n",
    "# Feature Selection and Engineering\n",
    "\n",
    "Beyond data selection and bias, an observer can categorize individual stock returns with various identified features. The type of industry, geographic location, and other features that may cause researchers to surmise a narrative to develop an argument. Eugene Fama and Kenneth French chose two endogenous features of the company size, in terms of market capitalization, and company style, in terms of book to market ratios, plus the overall feature of the market return.\n",
    "\n",
    "A single stock return is the closing price for one business day over the closing price of the prior business day minus one, which can be rolled up to an average monthly return. Stock prices can be an argument for many functions and the size feature is the price of a single quantity or a share multiplied by the total shares available to trade in the market. We could select the returns of small companies alone as a feature, but we can go further by taking the returns of low capitalized companies over the return of large capitalized companies. Before we go any further, let's go to the other feature for an additional layer of logic from the stock price.\n",
    "\n",
    "The style feature is another argument from the stock price as we take all the individual stock returns and order them by low and high book values. To elaborate, value is a financial metric made of components like book value and market value. What a company has in assets with what it owes in liabilities is the net worth or book value. A snapshot of current assets minus liabilities, it is consistent with the current price and the current return. Separately, market value is a proportional measure of what is available to trade in the market. Ignoring past share quantities and their past prices, we take the current available price for a single share quantity times the total number of share quantities outstanding. Market participants buy or sell a stock product of a company as supply and demand drives market value like a vote for value. Altogether, the book value is the numerator of the ratio and market value is the denominator. Value stocks have greater book values than market values so high book to market ratios. Low book to market ratios are labeled as growth stocks and in between is neutral.\n",
    "\n",
    "Both size and style features are treated by Fama and French before data analysis to measure outperformance and not as stand alone features. All of the stock returns are ordered from the smallest capitalization to the largest, split into deciles, then the style feature is captured to produce small value, small neutral, small growth, large value, large neutral and large growth. A collection of stock returns represents a single portfolio return as the size factor is the average return on the three small portfolios minus the average return on the three big portfolios. The sum of small companies across the styles of value, neutral and growth minus the sum of large companies across the styles of value, neutral and growth. Separately, the style feature is the average return of the value stocks, regardless of size, minus the growth stocks, regardless of size.\n",
    "\n",
    "# Class Imbalance\n",
    "\n",
    "To dig deeper from above, the feature engineering of Fama and French removes the problem of class imbalance as each classification is represented equally in the dataset to yield a better explanation on the outcome of the U.S. stock return universe. A top down feature allocation into deciles for size, followed by halves for style reduces the chances of statistical output errors like false positives or when we think something is true, when it is not. Small companies outnumber larger companies in the past, currently and very likely in the future so it is easy to draw the problem of class imbalance to distort the explanations of U.S. stock returns. If for every single large company, there are 5 or 10 small companies in your dataset, then it may contribute to a skewed result or false positives in a statistical estimation. Both Fama and French have 3 classifications for small and 3 classifications for large for the size feature across 3 different styles to remove class imbalance issues. The same is done for the style feature as it is halved across size with small value and large value on one side and the counterparts on the other. Further below, we shall see its importance from the model results.\n",
    "\n",
    "# Market Feature\n",
    "\n",
    "Lastly, the feature of the overall market return to capture clustering and spillover effects by the stock universe. The index for the U.S. stock market is the value weighted collection of stocks as each single stock is assigned a weight by its size or market capitalization, which in turn, produces proportional returns rolling up to an overall index return. Unlike market indices by price or equal weighting, the value weighted market index in consistent with the size feature as both capture market capitalization.\n",
    "\n",
    "# Final Adjustments to the Models\n",
    "\n",
    "An investor can decide not to invest in the U.S. stock market with risk adverse expectations in a risk free instrument like a 90 day U.S. Treasury Bill, i.e. a government security with a guaranteed rate of return that has been available to investors for many decades. Fama and French, therefore subtract the risk free return from the market feature independent variable and the dependent variable, which is a stock picking portfolio. Any set of stocks in a portfolio can be a dependent variable in the model.\n",
    "\n",
    "Altogether, the nature of the U.S. stock returns is explained by a set of stocks in a single portfolio or dependent variable over the risk free return by a set of three independent variables, which are first, by the market return above the risk free return, second, the return difference of small over large companies returns and third, the return difference of value companies over growth companies."
   ]
  },
  {
   "cell_type": "markdown",
   "metadata": {},
   "source": [
    "# Importing and Setting Up the Models"
   ]
  },
  {
   "cell_type": "code",
   "execution_count": 78,
   "metadata": {},
   "outputs": [],
   "source": [
    "# Required imports\n",
    "from IPython.display import display\n",
    "from matplotlib import pyplot as plt\n",
    "import numpy as np\n",
    "import pandas as pd\n",
    "import seaborn as sns\n",
    "import math\n",
    "import warnings\n",
    "import time\n",
    "\n",
    "# Model imports\n",
    "from sklearn import linear_model\n",
    "from sklearn.model_selection import train_test_split\n",
    "from sklearn.model_selection import cross_val_score\n",
    "from sklearn.ensemble import RandomForestRegressor\n",
    "from sklearn.model_selection import GridSearchCV\n",
    "from sklearn import svm\n",
    "\n",
    "# Display preferences.\n",
    "%matplotlib inline\n",
    "pd.options.display.float_format = '{:.3f}'.format\n",
    "\n",
    "# Suppress annoying harmless error.\n",
    "warnings.filterwarnings(\n",
    "    action=\"ignore\",\n",
    "    module=\"scipy\",\n",
    "    message=\"^internal gelsd\"\n",
    ")"
   ]
  },
  {
   "cell_type": "code",
   "execution_count": 79,
   "metadata": {},
   "outputs": [
    {
     "data": {
      "text/plain": [
       "['Month',\n",
       " 'Mkt-RF',\n",
       " 'SMB',\n",
       " 'HML',\n",
       " 'SMALL LoBM-RF',\n",
       " 'ME1 BM2-RF',\n",
       " 'SMALL HiBM-RF',\n",
       " 'BIG LoBM-RF',\n",
       " 'ME2 BM2-RF',\n",
       " 'BIG HiBM-RF']"
      ]
     },
     "execution_count": 79,
     "metadata": {},
     "output_type": "execute_result"
    }
   ],
   "source": [
    "# Load the file for analysis and view columns\n",
    "\n",
    "df = pd.read_csv('/Users/lacivert/3/ff3f.csv')\n",
    "\n",
    "df = pd.DataFrame(df)\n",
    "\n",
    "list(df.columns.values)"
   ]
  },
  {
   "cell_type": "code",
   "execution_count": 80,
   "metadata": {},
   "outputs": [],
   "source": [
    "# Assign the variables for analysis\n",
    "\n",
    "# Time\n",
    "month = df.loc[:,'Month']\n",
    "\n",
    "# independent factors \n",
    "market_return, small_vs_big, value_vs_growth = df.loc[:,'Mkt-RF'], df.loc[:,'SMB'], df.loc[:,'HML']\n",
    "\n",
    "# portfolios or the dependent factors on small companies across style\n",
    "small_growth_excess_return, small_neutral_excess_return = df.loc[:,'SMALL LoBM-RF'], df.loc[:,'ME1 BM2-RF']\n",
    "\n",
    "small_value_excess_return = df.loc[:,'SMALL HiBM-RF']   \n",
    "\n",
    "# portfolios or the dependent factors on large companies across style \n",
    "large_growth_excess_return, large_neutral_excess_return = df.loc[:,'BIG LoBM-RF'], df.loc[:,'ME2 BM2-RF']\n",
    "\n",
    "large_value_excess_return = df.loc[:,'BIG HiBM-RF']"
   ]
  },
  {
   "cell_type": "code",
   "execution_count": 81,
   "metadata": {},
   "outputs": [
    {
     "data": {
      "text/plain": [
       "(1104, 1104, 1104, 1104, 1104, 1104, 1104, 1104, 1104, 1104)"
      ]
     },
     "execution_count": 81,
     "metadata": {},
     "output_type": "execute_result"
    }
   ],
   "source": [
    "# Sanity check for length\n",
    "len(month), len(market_return), len(small_vs_big), len(value_vs_growth),len(small_growth_excess_return), len(small_neutral_excess_return), len(small_value_excess_return),len(large_growth_excess_return), len(large_neutral_excess_return), len(large_value_excess_return)"
   ]
  },
  {
   "cell_type": "markdown",
   "metadata": {},
   "source": [
    "# Exploratory Data Analysis of the Independent Features\n",
    "\n",
    "After setting up the data, let's uncover the main characteristics of the variables for analysis before we model.  First are the independent features of U.S. stock returns followed by the portfolios.\n",
    "\n",
    "Fama and French feature selection have explanatory factors that are independent of each other so each feature can explain their effect on the U.S. Stock Market without interference.  The contribution of the size feature, for example, will explain the nature of the U.S. stock market as the other features are held constant.  Albeit, there are some elements of the features that do overlap such as a single independent feature, a datapoint, which is the rate of return of a small size company with a high book to market ratio, i.e. value style, plus it is also represented in the market feature.     "
   ]
  },
  {
   "cell_type": "code",
   "execution_count": 82,
   "metadata": {},
   "outputs": [
    {
     "data": {
      "text/html": [
       "<div>\n",
       "<style scoped>\n",
       "    .dataframe tbody tr th:only-of-type {\n",
       "        vertical-align: middle;\n",
       "    }\n",
       "\n",
       "    .dataframe tbody tr th {\n",
       "        vertical-align: top;\n",
       "    }\n",
       "\n",
       "    .dataframe thead th {\n",
       "        text-align: right;\n",
       "    }\n",
       "</style>\n",
       "<table border=\"1\" class=\"dataframe\">\n",
       "  <thead>\n",
       "    <tr style=\"text-align: right;\">\n",
       "      <th></th>\n",
       "      <th>Market_Risk_Feature</th>\n",
       "      <th>Size_Risk_Feature</th>\n",
       "      <th>Style_Risk_Feature</th>\n",
       "    </tr>\n",
       "  </thead>\n",
       "  <tbody>\n",
       "    <tr>\n",
       "      <th>count</th>\n",
       "      <td>1104.000</td>\n",
       "      <td>1104.000</td>\n",
       "      <td>1104.000</td>\n",
       "    </tr>\n",
       "    <tr>\n",
       "      <th>mean</th>\n",
       "      <td>0.662</td>\n",
       "      <td>0.216</td>\n",
       "      <td>0.373</td>\n",
       "    </tr>\n",
       "    <tr>\n",
       "      <th>std</th>\n",
       "      <td>5.332</td>\n",
       "      <td>3.200</td>\n",
       "      <td>3.490</td>\n",
       "    </tr>\n",
       "    <tr>\n",
       "      <th>min</th>\n",
       "      <td>-29.130</td>\n",
       "      <td>-17.280</td>\n",
       "      <td>-13.280</td>\n",
       "    </tr>\n",
       "    <tr>\n",
       "      <th>25%</th>\n",
       "      <td>-1.970</td>\n",
       "      <td>-1.560</td>\n",
       "      <td>-1.305</td>\n",
       "    </tr>\n",
       "    <tr>\n",
       "      <th>50%</th>\n",
       "      <td>1.015</td>\n",
       "      <td>0.080</td>\n",
       "      <td>0.155</td>\n",
       "    </tr>\n",
       "    <tr>\n",
       "      <th>75%</th>\n",
       "      <td>3.635</td>\n",
       "      <td>1.745</td>\n",
       "      <td>1.732</td>\n",
       "    </tr>\n",
       "    <tr>\n",
       "      <th>max</th>\n",
       "      <td>38.850</td>\n",
       "      <td>36.700</td>\n",
       "      <td>35.460</td>\n",
       "    </tr>\n",
       "  </tbody>\n",
       "</table>\n",
       "</div>"
      ],
      "text/plain": [
       "       Market_Risk_Feature  Size_Risk_Feature  Style_Risk_Feature\n",
       "count             1104.000           1104.000            1104.000\n",
       "mean                 0.662              0.216               0.373\n",
       "std                  5.332              3.200               3.490\n",
       "min                -29.130            -17.280             -13.280\n",
       "25%                 -1.970             -1.560              -1.305\n",
       "50%                  1.015              0.080               0.155\n",
       "75%                  3.635              1.745               1.732\n",
       "max                 38.850             36.700              35.460"
      ]
     },
     "execution_count": 82,
     "metadata": {},
     "output_type": "execute_result"
    }
   ],
   "source": [
    "# Subset of Inpendent Variables\n",
    "\n",
    "three = [market_return, small_vs_big, value_vs_growth]\n",
    "\n",
    "df_three = pd.DataFrame(data=three)\n",
    "\n",
    "df_three.reset_index()\n",
    "\n",
    "df_independent_factors = df_three.transpose()\n",
    "\n",
    "df_independent_factors.rename (columns={'Mkt-RF' : 'Market_Risk_Feature'}, inplace=True)\n",
    "\n",
    "df_independent_factors.rename (columns={'SMB' : 'Size_Risk_Feature'}, inplace=True)\n",
    "\n",
    "df_independent_factors.rename (columns={'HML' : 'Style_Risk_Feature'}, inplace=True)\n",
    "\n",
    "df_independent_factors.describe()"
   ]
  },
  {
   "cell_type": "markdown",
   "metadata": {},
   "source": [
    "Nonetheless, the three independent features are three collection of returns with the most common return varying from 0.662, 0.373 and 0.216 as a mean.  How much returns jump around their mean is their standard deviation (i.e. std) with the most variation in the expected market feature, while subsets of the market feature, size and style, have smaller variations of 3.2 and 3.49 as a standard deviation.  Similar to the lowest returns in the minimum, i.e. min as the market falls more than their subset of size and style.  Overall with descriptive statistics above with the quartiles of 25%, 50% and 75% shows differences, but no extreme differences.    "
   ]
  },
  {
   "cell_type": "code",
   "execution_count": 83,
   "metadata": {},
   "outputs": [
    {
     "data": {
      "text/plain": [
       "Text(0.5,1,'Correlation Matrix Heatmap of Independent Features\\nMonthly Frequency of July 1926 to June 2018')"
      ]
     },
     "execution_count": 83,
     "metadata": {},
     "output_type": "execute_result"
    },
    {
     "data": {
      "image/png": "[encoded data removed]",
      "text/plain": [
       "<Figure size 792x648 with 2 Axes>"
      ]
     },
     "metadata": {},
     "output_type": "display_data"
    }
   ],
   "source": [
    "# Generate a correlation matrix function and assign it\n",
    "corr = df_independent_factors.corr()\n",
    "\n",
    "# Generate an upper triangle mask\n",
    "mask = np.zeros_like(corr, dtype=np.bool)\n",
    "mask[np.triu_indices_from(mask)] = True\n",
    "\n",
    "# Set up the matplotlib figure\n",
    "f, ax = plt.subplots(figsize=(11, 9))\n",
    "\n",
    "# Generate a custom diverging colormap\n",
    "cmap = sns.diverging_palette(220, 10, as_cmap=True)\n",
    "\n",
    "# Draw the heatmap with the mask, correct aspect ratio and Spectral color theme\n",
    "sns.heatmap(corr, mask=mask, cmap='Spectral', vmax=.3, center=0, annot_kws={\"size\": 20}, \n",
    "            square=True, annot=True, linewidths=.5, cbar_kws={\"shrink\": .7})\n",
    "\n",
    "# Make it readable and nice\n",
    "plt.yticks(rotation=0, fontweight='bold', fontsize=14)\n",
    "plt.xticks(fontweight='bold', fontsize=14)\n",
    "plt.title('Correlation Matrix Heatmap of Independent Features\\nMonthly Frequency of July 1926 to June 2018'\n",
    "          , fontweight='bold', fontsize=15,color='k')"
   ]
  },
  {
   "cell_type": "markdown",
   "metadata": {},
   "source": [
    "The near zero figures above add explanatory value of U.S. stock market returns as each contribute the nature of the U.S. stock market.  The correlation heatmap demonstrates the inverse relationships of each of the three features in the Fama – French Three – Factor Model, thereby signaling their independence.  Conversely, if the above figures were near one, then the selected features would move in tandem, thereby interfering with each other.  In addition, a plot of their distribution is below as they all cluster around zero . . . "
   ]
  },
  {
   "cell_type": "code",
   "execution_count": 84,
   "metadata": {},
   "outputs": [
    {
     "data": {
      "text/plain": [
       "<matplotlib.legend.Legend at 0x1a216cdeb8>"
      ]
     },
     "execution_count": 84,
     "metadata": {},
     "output_type": "execute_result"
    },
    {
     "data": {
      "image/png": "[encoded data removed]",
      "text/plain": [
       "<Figure size 432x288 with 1 Axes>"
      ]
     },
     "metadata": {},
     "output_type": "display_data"
    }
   ],
   "source": [
    "sns.distplot(market_return,label='Market Risk Factor',hist=False)\n",
    "sns.distplot(small_vs_big,label='Size Risk Factor',hist=False)\n",
    "sns.distplot(value_vs_growth, label='Style Risk Factor',hist=False)\n",
    "plt.xlabel('Three Independent Risk Features',color='green')\n",
    "plt.ylabel('Frequency',color='green')\n",
    "plt.title('Monthly Distplot July 1926 - June 2018', color='green')\n",
    "plt.legend()"
   ]
  },
  {
   "cell_type": "markdown",
   "metadata": {},
   "source": [
    "# Exploratory Data Analysis of the Portfolios\n",
    "\n",
    "Separately, let us construct the portfolios as a dependent variable to be explained in the model.  The aforementioned data engineering designs small companies over big and value style companies over growth so we will select portfolios across size and style below above the risk free rate of return.   "
   ]
  },
  {
   "cell_type": "code",
   "execution_count": 85,
   "metadata": {},
   "outputs": [
    {
     "data": {
      "text/html": [
       "<div>\n",
       "<style scoped>\n",
       "    .dataframe tbody tr th:only-of-type {\n",
       "        vertical-align: middle;\n",
       "    }\n",
       "\n",
       "    .dataframe tbody tr th {\n",
       "        vertical-align: top;\n",
       "    }\n",
       "\n",
       "    .dataframe thead th {\n",
       "        text-align: right;\n",
       "    }\n",
       "</style>\n",
       "<table border=\"1\" class=\"dataframe\">\n",
       "  <thead>\n",
       "    <tr style=\"text-align: right;\">\n",
       "      <th></th>\n",
       "      <th>Small_Growth</th>\n",
       "      <th>Small_Neutral</th>\n",
       "      <th>Small_Value</th>\n",
       "      <th>Large_Growth</th>\n",
       "      <th>Large_Neutral</th>\n",
       "      <th>Large_Value</th>\n",
       "    </tr>\n",
       "  </thead>\n",
       "  <tbody>\n",
       "    <tr>\n",
       "      <th>count</th>\n",
       "      <td>1104.000</td>\n",
       "      <td>1104.000</td>\n",
       "      <td>1104.000</td>\n",
       "      <td>1104.000</td>\n",
       "      <td>1104.000</td>\n",
       "      <td>1104.000</td>\n",
       "    </tr>\n",
       "    <tr>\n",
       "      <th>mean</th>\n",
       "      <td>0.717</td>\n",
       "      <td>0.987</td>\n",
       "      <td>1.193</td>\n",
       "      <td>0.646</td>\n",
       "      <td>0.687</td>\n",
       "      <td>0.917</td>\n",
       "    </tr>\n",
       "    <tr>\n",
       "      <th>std</th>\n",
       "      <td>7.510</td>\n",
       "      <td>6.961</td>\n",
       "      <td>8.127</td>\n",
       "      <td>5.286</td>\n",
       "      <td>5.653</td>\n",
       "      <td>7.120</td>\n",
       "    </tr>\n",
       "    <tr>\n",
       "      <th>min</th>\n",
       "      <td>-32.969</td>\n",
       "      <td>-30.082</td>\n",
       "      <td>-33.859</td>\n",
       "      <td>-28.897</td>\n",
       "      <td>-28.179</td>\n",
       "      <td>-35.143</td>\n",
       "    </tr>\n",
       "    <tr>\n",
       "      <th>25%</th>\n",
       "      <td>-3.272</td>\n",
       "      <td>-2.134</td>\n",
       "      <td>-2.314</td>\n",
       "      <td>-2.031</td>\n",
       "      <td>-1.873</td>\n",
       "      <td>-2.245</td>\n",
       "    </tr>\n",
       "    <tr>\n",
       "      <th>50%</th>\n",
       "      <td>0.976</td>\n",
       "      <td>1.227</td>\n",
       "      <td>1.280</td>\n",
       "      <td>0.993</td>\n",
       "      <td>0.935</td>\n",
       "      <td>1.109</td>\n",
       "    </tr>\n",
       "    <tr>\n",
       "      <th>75%</th>\n",
       "      <td>4.742</td>\n",
       "      <td>4.320</td>\n",
       "      <td>4.598</td>\n",
       "      <td>3.588</td>\n",
       "      <td>3.200</td>\n",
       "      <td>4.088</td>\n",
       "    </tr>\n",
       "    <tr>\n",
       "      <th>max</th>\n",
       "      <td>59.898</td>\n",
       "      <td>62.157</td>\n",
       "      <td>83.545</td>\n",
       "      <td>33.639</td>\n",
       "      <td>51.793</td>\n",
       "      <td>67.755</td>\n",
       "    </tr>\n",
       "  </tbody>\n",
       "</table>\n",
       "</div>"
      ],
      "text/plain": [
       "       Small_Growth  Small_Neutral  Small_Value  Large_Growth  Large_Neutral  \\\n",
       "count      1104.000       1104.000     1104.000      1104.000       1104.000   \n",
       "mean          0.717          0.987        1.193         0.646          0.687   \n",
       "std           7.510          6.961        8.127         5.286          5.653   \n",
       "min         -32.969        -30.082      -33.859       -28.897        -28.179   \n",
       "25%          -3.272         -2.134       -2.314        -2.031         -1.873   \n",
       "50%           0.976          1.227        1.280         0.993          0.935   \n",
       "75%           4.742          4.320        4.598         3.588          3.200   \n",
       "max          59.898         62.157       83.545        33.639         51.793   \n",
       "\n",
       "       Large_Value  \n",
       "count     1104.000  \n",
       "mean         0.917  \n",
       "std          7.120  \n",
       "min        -35.143  \n",
       "25%         -2.245  \n",
       "50%          1.109  \n",
       "75%          4.088  \n",
       "max         67.755  "
      ]
     },
     "execution_count": 85,
     "metadata": {},
     "output_type": "execute_result"
    }
   ],
   "source": [
    "six = [small_growth_excess_return, small_neutral_excess_return, small_value_excess_return, large_growth_excess_return, large_neutral_excess_return, large_value_excess_return]\n",
    "\n",
    "df_six = pd.DataFrame(data=six)\n",
    "\n",
    "df_six.reset_index()\n",
    "\n",
    "df_dependent_factors = df_six.transpose()\n",
    "\n",
    "df_dependent_factors.rename (columns={'SMALL LoBM-RF' : 'Small_Growth'}, inplace=True)\n",
    "\n",
    "df_dependent_factors.rename (columns={'ME1 BM2-RF' : 'Small_Neutral'}, inplace=True)\n",
    "\n",
    "df_dependent_factors.rename (columns={'SMALL HiBM-RF' : 'Small_Value'}, inplace=True)\n",
    "\n",
    "df_dependent_factors.rename (columns={'BIG LoBM-RF' : 'Large_Growth'}, inplace=True)\n",
    "\n",
    "df_dependent_factors.rename (columns={'ME2 BM2-RF' : 'Large_Neutral'}, inplace=True)\n",
    "\n",
    "df_dependent_factors.rename (columns={'BIG HiBM-RF' : 'Large_Value'}, inplace=True)\n",
    "\n",
    "df_dependent_factors.describe()"
   ]
  },
  {
   "cell_type": "markdown",
   "metadata": {},
   "source": [
    "The Small Value portfolio has the highest rate of return and the most variation with a standard deviation of 8.127, but the counterpoint Large Growth portfolio has the lowest rate of return and the least variation. Like the independent features, the portfolios are different, but not severe. "
   ]
  },
  {
   "cell_type": "code",
   "execution_count": 86,
   "metadata": {},
   "outputs": [
    {
     "data": {
      "text/plain": [
       "Text(0.5,1,'Correlation Matrix Heatmap of Six Portfolios\\nMonthly Frequency of July 1926 to June 2018')"
      ]
     },
     "execution_count": 86,
     "metadata": {},
     "output_type": "execute_result"
    },
    {
     "data": {
      "image/png": "[encoded data removed]",
      "text/plain": [
       "<Figure size 792x648 with 2 Axes>"
      ]
     },
     "metadata": {},
     "output_type": "display_data"
    }
   ],
   "source": [
    "# Generate a correlation matrix function and assign it\n",
    "corr = df_dependent_factors.corr()\n",
    "\n",
    "# Generate a mask for the upper triangle\n",
    "mask = np.zeros_like(corr, dtype=np.bool)\n",
    "mask[np.triu_indices_from(mask)] = True\n",
    "\n",
    "# Set up the matplotlib figure\n",
    "f, ax = plt.subplots(figsize=(11, 9))\n",
    "\n",
    "# Generate a custom diverging colormap\n",
    "cmap = sns.diverging_palette(220, 10, as_cmap=True)\n",
    "\n",
    "# Draw the heatmap with the mask, correct aspect ratio and Spectral color theme\n",
    "sns.heatmap(corr, mask=mask, cmap='Spectral', vmax=.3, center=0, annot_kws={\"size\": 20}, \n",
    "            square=True, annot=True, linewidths=.5, cbar_kws={\"shrink\": .7})\n",
    "\n",
    "# Make it readable and nice\n",
    "plt.yticks(rotation=0, fontweight='bold', fontsize=12)\n",
    "plt.xticks(rotation=25,fontweight='bold', fontsize=12)\n",
    "plt.title('Correlation Matrix Heatmap of Six Portfolios\\nMonthly Frequency of July 1926 to June 2018'\n",
    "          , fontweight='bold', fontsize=15,color='k')"
   ]
  },
  {
   "cell_type": "markdown",
   "metadata": {},
   "source": [
    "The six portfolios across size and style move together as their correlations are near one. The relative consistency will assist in explaining the portfolios as we surmise a roll up to a universe of the overall U.S. stock market. To put it another way, if we had at least one correlation near zero, then an outlier may be left unexplained in a model.  Furthermore, their distributions like the independent features shows the clustering of the most common returns around zero, but with wider outliers from negative 33.859 and postive 83.545, both from the Small Value Portfolio."
   ]
  },
  {
   "cell_type": "code",
   "execution_count": 87,
   "metadata": {},
   "outputs": [
    {
     "data": {
      "text/plain": [
       "<matplotlib.legend.Legend at 0x1a20f9bc50>"
      ]
     },
     "execution_count": 87,
     "metadata": {},
     "output_type": "execute_result"
    },
    {
     "data": {
      "image/png": "[encoded data removed]",
      "text/plain": [
       "<Figure size 432x288 with 1 Axes>"
      ]
     },
     "metadata": {},
     "output_type": "display_data"
    }
   ],
   "source": [
    "sns.distplot(small_growth_excess_return,label='Small Growth',hist=False)\n",
    "sns.distplot(small_neutral_excess_return,label='Small Neutral',hist=False)\n",
    "sns.distplot(small_value_excess_return, label='Small Value',hist=False)\n",
    "sns.distplot(large_growth_excess_return,label='Large Growth',hist=False)\n",
    "sns.distplot(large_neutral_excess_return,label='Large Neutral',hist=False)\n",
    "sns.distplot(large_value_excess_return, label='Large Value',hist=False)\n",
    "plt.xlabel('Six Portfolios',color='orange')\n",
    "plt.ylabel('Frequency',color='orange')\n",
    "plt.title('Monthly Distplot July 1926 - June 2018', color='orange')\n",
    "plt.legend()"
   ]
  },
  {
   "cell_type": "markdown",
   "metadata": {},
   "source": [
    "# Running the Multiple Linear Regressions \n",
    "\n",
    "The first chosen model is a multiple linear regression so let’s build the model simply and then propagate in order to view a complete picture. For now, let’s drop two of three of the independent variables such as the market return and the style feature and try to understand the left over size feature and its relationship to drive U.S. stock market returns. "
   ]
  },
  {
   "cell_type": "code",
   "execution_count": 88,
   "metadata": {},
   "outputs": [
    {
     "data": {
      "text/plain": [
       "Text(0.5,1,'Scatter Plot with Regression Line\\nA Portfolio against an Independent Feature')"
      ]
     },
     "execution_count": 88,
     "metadata": {},
     "output_type": "execute_result"
    },
    {
     "data": {
      "image/png": "[encoded data removed]",
      "text/plain": [
       "<Figure size 360x360 with 1 Axes>"
      ]
     },
     "metadata": {},
     "output_type": "display_data"
    }
   ],
   "source": [
    "# Grab a portfolio and a independent feature to dataframe\n",
    "\n",
    "dual_1 = [small_value_excess_return, small_vs_big]\n",
    "\n",
    "df_1a = pd.DataFrame(data=dual_1)\n",
    "\n",
    "df_1a.reset_index()\n",
    "\n",
    "df_1b = df_1a.transpose()\n",
    "\n",
    "df_1b.rename (columns={'SMALL HiBM-RF' : 'Small_Value'}, inplace=True)\n",
    "\n",
    "df_1b.rename (columns={'SMB' : 'Size Feature'}, inplace=True)\n",
    "\n",
    "# Create scatter plot with a regression line\n",
    "sns.set_style(\"whitegrid\")\n",
    "sns.lmplot(x='Small_Value',y='Size Feature',data=df_1b, markers=[\"x\"])\n",
    "plt.title('Scatter Plot with Regression Line\\nA Portfolio against an Independent Feature')"
   ]
  },
  {
   "cell_type": "markdown",
   "metadata": {},
   "source": [
    "Estimating a dual relationship involves three components, which are an intercept, slope and an error term in the data science of supervised learning via errors.  The above plot has a line intercepting near negative ten drawn across the portfolio returns on the horizontal axis and the size feature on the vertical axis.  Each datapoint has a distance to the regression line with some above and some below.  Positive and negative distances of all the datapoints are summed, but to remove the positive and negative signs, we square the summation to produce an error term to ease operations.  Thereafter, the slope of the line is the amount of change of the portfolio and size feature, which produces a coefficient.  One unit change of the vertical axis size feature over one unit change of the horizontal axis small value portfolio is our slope coefficient so we can see how much the independent feature contributes to our understanding of the small value portfolio, while we hold the other independent features of the overall market and style feature constant.\n",
    "\n",
    "Replicate the logic and replace size with style and then the overall market return and you end end up with a multiple linear regression model because of linear separability.  Moving forward let's run our first regression and interpret the results . . .   "
   ]
  },
  {
   "cell_type": "code",
   "execution_count": 89,
   "metadata": {},
   "outputs": [],
   "source": [
    "# Function to run 6 regression with the 6 portfolios and the same independent features\n",
    "def regression(ind, port):\n",
    "        from sklearn import linear_model\n",
    "        regr = linear_model.LinearRegression()\n",
    "        regr.fit(ind, port)\n",
    "        print('\\n\\tMultiple Linear Regression Coefficients: ', regr.coef_)\n",
    "        print('\\n\\tMultiple Linear Regression Intercept: ', regr.intercept_)\n",
    "        print('\\n\\tMultiple Linear Regression R-squared:',  regr.score(ind, port))\n",
    "# Assignments\n",
    "Y_sv = df['SMALL HiBM-RF']\n",
    "Y_sn = df['ME1 BM2-RF']\n",
    "Y_sg = df['SMALL LoBM-RF']\n",
    "Y_lv = df['BIG HiBM-RF']\n",
    "Y_lg = df['BIG LoBM-RF']\n",
    "Y_ln = df['ME2 BM2-RF']\n",
    "X = df[['Mkt-RF','SMB', 'HML']]"
   ]
  },
  {
   "cell_type": "code",
   "execution_count": 90,
   "metadata": {},
   "outputs": [
    {
     "name": "stdout",
     "output_type": "stream",
     "text": [
      "\n",
      "\tMultiple Linear Regression Coefficients:  [0.98371966 0.81945716 0.29526846]\n",
      "\n",
      "\tMultiple Linear Regression Intercept:  0.04864523246355379\n",
      "\n",
      "\tMultiple Linear Regression R-squared: 0.978069909822615\n"
     ]
    }
   ],
   "source": [
    "small_neutral_regression = regression(X,Y_sn)"
   ]
  },
  {
   "cell_type": "markdown",
   "metadata": {},
   "source": [
    "Our intercept of 0.048 near the point of origin with slopes of 0.983, 0.819 and 0.295 for the overall market, size and style features, respectively.  Since the exploratory analysis above showed both independent features and portfolios distributions clustering around zero, then this is consistent.  The third metric, R-squared is a goodness of fit measure in terms of how much variance in the portfolio, the dependent variable is explanied by the independent variables. Let's continue with the rest of the portfolios.  "
   ]
  },
  {
   "cell_type": "code",
   "execution_count": 91,
   "metadata": {},
   "outputs": [
    {
     "name": "stdout",
     "output_type": "stream",
     "text": [
      "\n",
      "\tMultiple Linear Regression Coefficients:  [ 1.08845865  1.03733551 -0.19204224]\n",
      "\n",
      "\tMultiple Linear Regression Intercept:  -0.15607637648846318\n",
      "\n",
      "\tMultiple Linear Regression R-squared: 0.9747660850232415\n"
     ]
    }
   ],
   "source": [
    "small_growth_regression = regression(X,Y_sg)"
   ]
  },
  {
   "cell_type": "code",
   "execution_count": 92,
   "metadata": {},
   "outputs": [
    {
     "name": "stdout",
     "output_type": "stream",
     "text": [
      "\n",
      "\tMultiple Linear Regression Coefficients:  [1.02339806 0.92902604 0.78638082]\n",
      "\n",
      "\tMultiple Linear Regression Intercept:  0.021218161850596662\n",
      "\n",
      "\tMultiple Linear Regression R-squared: 0.9921284459293503\n"
     ]
    }
   ],
   "source": [
    "small_value_regression = regression(X,Y_sv)"
   ]
  },
  {
   "cell_type": "code",
   "execution_count": 93,
   "metadata": {},
   "outputs": [
    {
     "name": "stdout",
     "output_type": "stream",
     "text": [
      "\n",
      "\tMultiple Linear Regression Coefficients:  [ 1.02221942 -0.0919116  -0.22922249]\n",
      "\n",
      "\tMultiple Linear Regression Intercept:  0.07479212176192906\n",
      "\n",
      "\tMultiple Linear Regression R-squared: 0.9811419118782503\n"
     ]
    }
   ],
   "source": [
    "large_growth_regression = regression(X,Y_lg)"
   ]
  },
  {
   "cell_type": "code",
   "execution_count": 94,
   "metadata": {},
   "outputs": [
    {
     "name": "stdout",
     "output_type": "stream",
     "text": [
      "\n",
      "\tMultiple Linear Regression Coefficients:  [ 0.98611766 -0.13876716  0.32642338]\n",
      "\n",
      "\tMultiple Linear Regression Intercept:  -0.05836561347473246\n",
      "\n",
      "\tMultiple Linear Regression R-squared: 0.9508277054882855\n"
     ]
    }
   ],
   "source": [
    "large_neutral_regression = regression(X,Y_ln)"
   ]
  },
  {
   "cell_type": "code",
   "execution_count": 95,
   "metadata": {},
   "outputs": [
    {
     "name": "stdout",
     "output_type": "stream",
     "text": [
      "\n",
      "\tMultiple Linear Regression Coefficients:  [1.08727363 0.01648414 0.7924494 ]\n",
      "\n",
      "\tMultiple Linear Regression Intercept:  -0.10269597287521437\n",
      "\n",
      "\tMultiple Linear Regression R-squared: 0.9686486651506865\n"
     ]
    }
   ],
   "source": [
    "large_value_regression = regression(X,Y_lv)"
   ]
  },
  {
   "cell_type": "markdown",
   "metadata": {},
   "source": [
    "A common theme arises from the six portfolio results of the regression.  All intercepts, positive or negative are near the point of origin with relatively low slope coefficients ranging from negative 0.229 style feature in large growth to positive 1.088 market feature in small growth. The differences in all of the results show small variation with no outliers across all of the portfolios and independent features, regardless of size or style features.  The regression lines therefore have small errors so it appears we are reaching towards model parsimony with the Fama – French Three – Factor Model, but all of the R-squared are near one raising concerns about overfitting."
   ]
  },
  {
   "cell_type": "markdown",
   "metadata": {},
   "source": [
    "# Checking for Overfitting \n",
    "\n",
    "If we have too many parameters in our model, then maybe we are acquiring the variation of the data that is residual or statistical noise.  We may need to drop one of the independent features, but there are methods to confirm overfitting such as In Sample 10% evaluation and cross validation scores.  If the results of the methods fluctuate, then we have overfitting.\n",
    "\n",
    "The monthly dataset ranges from July 1926 to June 2018 or 1,104 data points, which is just shy of a century.  Instead of treating the entire dataset as a training set, let's hold out 10% to represent almost a decade.  Throughout U.S. financial history there are plenty of events they have influenced U.S. stock returns such as the Great Depression of the 1930's."
   ]
  },
  {
   "cell_type": "code",
   "execution_count": 96,
   "metadata": {},
   "outputs": [
    {
     "name": "stdout",
     "output_type": "stream",
     "text": [
      "With 10% Holdout on Small Growth: 0.9707013888488556\n",
      "Testing on Sample on Small Growth: 0.9747660850232415\n",
      "\n",
      "\tWith 10% Holdout on Small Neutral: 0.9749745957776301\n",
      "\tTesting on Sample on Small Neutral: 0.978069909822615\n",
      "\n",
      "\t\tWith 10% Holdout on Small Value: 0.9883512517441517\n",
      "\t\tTesting on Sample on Small Value: 0.9921284459293503\n",
      "\n",
      "With 10% Holdout on Large Growth: 0.9749554857218126\n",
      "Testing on Sample on Large Growth: 0.9811419118782503\n",
      "\n",
      "\tWith 10% Holdout on Large Neutral: 0.9286536537590242\n",
      "\tTesting on Sample on Large Neutral: 0.9508277054882855\n",
      "\n",
      "\t\tWith 10% Holdout on Large Value: 0.928478361131278\n",
      "\t\tTesting on Sample on Large Value: 0.9686486651506865\n",
      "\n"
     ]
    }
   ],
   "source": [
    "# Assign the estimator to check overfitting\n",
    "clf = linear_model.LinearRegression()\n",
    "\n",
    "X_train_sg, X_test_sg, y_train_sg, y_test_sg = train_test_split(X, Y_sg, test_size=0.1, random_state=10)\n",
    "\n",
    "X_train_sn, X_test_sn, y_train_sn, y_test_sn = train_test_split(X, Y_sn, test_size=0.1, random_state=10)\n",
    "\n",
    "X_train_sv, X_test_sv, y_train_sv, y_test_sv = train_test_split(X, Y_sv, test_size=0.1, random_state=10)\n",
    "\n",
    "X_train_lg, X_test_lg, y_train_lg, y_test_lg = train_test_split(X, Y_lg, test_size=0.1, random_state=10)\n",
    "\n",
    "X_train_ln, X_test_ln, y_train_ln, y_test_ln = train_test_split(X, Y_ln, test_size=0.1, random_state=10)\n",
    "\n",
    "X_train_lv, X_test_lv, y_train_lv, y_test_lv = train_test_split(X, Y_lv, test_size=0.1, random_state=10)\n",
    "\n",
    "print('With 10% Holdout on Small Growth: ' + str(clf.fit(X_train_sg, y_train_sg).score(X_test_sg, y_test_sg)))\n",
    "print('Testing on Sample on Small Growth: ' + str(clf.fit(X, Y_sg).score(X, Y_sg))+'\\n')\n",
    "\n",
    "print('\\tWith 10% Holdout on Small Neutral: ' + str(clf.fit(X_train_sn, y_train_sn).score(X_test_sn, y_test_sn)))\n",
    "print('\\tTesting on Sample on Small Neutral: ' + str(clf.fit(X, Y_sn).score(X, Y_sn))+'\\n')\n",
    "\n",
    "print('\\t\\tWith 10% Holdout on Small Value: ' + str(clf.fit(X_train_sv, y_train_sv).score(X_test_sv, y_test_sv)))\n",
    "print('\\t\\tTesting on Sample on Small Value: ' + str(clf.fit(X, Y_sv).score(X, Y_sv))+'\\n')\n",
    "\n",
    "print('With 10% Holdout on Large Growth: ' + str(clf.fit(X_train_lg, y_train_lg).score(X_test_lg, y_test_lg)))\n",
    "print('Testing on Sample on Large Growth: ' + str(clf.fit(X, Y_lg).score(X, Y_lg))+'\\n')\n",
    "\n",
    "print('\\tWith 10% Holdout on Large Neutral: ' + str(clf.fit(X_train_ln, y_train_ln).score(X_test_ln, y_test_ln)))\n",
    "print('\\tTesting on Sample on Large Neutral: ' + str(clf.fit(X, Y_ln).score(X, Y_ln))+'\\n')\n",
    "\n",
    "print('\\t\\tWith 10% Holdout on Large Value: ' + str(clf.fit(X_train_lv, y_train_lv).score(X_test_lv, y_test_lv)))\n",
    "print('\\t\\tTesting on Sample on Large Value: ' + str(clf.fit(X, Y_lv).score(X, Y_lv))+'\\n')"
   ]
  },
  {
   "cell_type": "markdown",
   "metadata": {},
   "source": [
    "Not much variation in the results for In Sample 10% evaluation so let's try Cross Validation . . ."
   ]
  },
  {
   "cell_type": "code",
   "execution_count": 97,
   "metadata": {},
   "outputs": [
    {
     "name": "stdout",
     "output_type": "stream",
     "text": [
      "               cv_1  cv_2  cv_3  cv_4  cv_5  cv_6  cv_7  cv_8  cv_9  cv_10\n",
      "Small Growth  0.967 0.980 0.969 0.960 0.986 0.980 0.980 0.979 0.970  0.958\n",
      "Small Neutral 0.977 0.979 0.977 0.978 0.987 0.989 0.989 0.963 0.924  0.984\n",
      "Small Value   0.991 0.996 0.993 0.992 0.989 0.988 0.979 0.978 0.986  0.988\n",
      "Large Growth  0.985 0.987 0.981 0.987 0.958 0.971 0.979 0.962 0.972  0.979\n",
      "Large Neutral 0.959 0.961 0.944 0.913 0.916 0.923 0.964 0.883 0.874  0.945\n",
      "Large Value   0.978 0.970 0.978 0.956 0.952 0.961 0.961 0.938 0.940  0.944\n"
     ]
    },
    {
     "data": {
      "text/plain": [
       "[[Text(0,0,'Small Growth'),\n",
       "  Text(0,0,'Small Neutral'),\n",
       "  Text(0,0,'Small Value'),\n",
       "  Text(0,0,'Large Growth'),\n",
       "  Text(0,0,'Large Neutral'),\n",
       "  Text(0,0,'Large Value')]]"
      ]
     },
     "execution_count": 97,
     "metadata": {},
     "output_type": "execute_result"
    },
    {
     "data": {
      "image/png": "[encoded data removed]",
      "text/plain": [
       "<Figure size 432x288 with 1 Axes>"
      ]
     },
     "metadata": {},
     "output_type": "display_data"
    }
   ],
   "source": [
    "# Small Growth Excess Return Portfolio\n",
    "cv_sg = cross_val_score(clf, X, Y_sg, cv=10)\n",
    "\n",
    "# Small Neutral Excess Return Portfolio\n",
    "cv_sn = cross_val_score(clf, X, Y_sn, cv=10)\n",
    "\n",
    "# Small Value Excess Return Portfolio\n",
    "cv_sv = cross_val_score(clf, X, Y_sv, cv=10)\n",
    "\n",
    "# Large Growth Excess Return Portfolio\n",
    "cv_lg = cross_val_score(clf, X, Y_lg, cv=10)\n",
    "\n",
    "# Large Neutral Excess Return Portfolio\n",
    "cv_ln = cross_val_score(clf, X, Y_ln, cv=10)\n",
    "\n",
    "# Large Value Excess Return Portfolio\n",
    "cv_lv = cross_val_score(clf, X, Y_lv, cv=10)\n",
    "\n",
    "# Throw the cross validation results into a dataframe for visualization\n",
    "cv = [cv_sg,cv_sn,cv_sv,cv_lg,cv_ln,cv_lv]\n",
    "df_cv_scores = pd.DataFrame(data=cv, columns=['cv_1','cv_2','cv_3','cv_4','cv_5','cv_6','cv_7','cv_8','cv_9','cv_10']\n",
    "                     , index=['Small Growth','Small Neutral'\n",
    "                              ,'Small Value','Large Growth'\n",
    "                              ,'Large Neutral','Large Value'])\n",
    "\n",
    "print (df_cv_scores)\n",
    "\n",
    "sns.set(style=\"whitegrid\")\n",
    "cvs = sns.swarmplot(data=cv, orient='v')\n",
    "plt.ylim(0.0, 1.0)\n",
    "plt.yticks(fontweight='bold',fontsize=12)\n",
    "plt.xticks(rotation=25,fontweight='bold', fontsize=12)\n",
    "plt.ylabel(\"Cross Validation Scores\",fontweight='bold')\n",
    "cvs.set(xticklabels=[\"Small Growth\",\"Small Neutral\",\"Small Value\",\"Large Growth\",\"Large Neutral\",\"Large Value\"])"
   ]
  },
  {
   "cell_type": "markdown",
   "metadata": {},
   "source": [
    "No evidence of overfitting with cross validation scores either as both overfitting checks are statistical estimate methods to evaluate the skill of models.  Let's go further into cross validation and see if there are any substantial differences in the means followed by two standard deviations, i.e. the most common and outliers, respectively."
   ]
  },
  {
   "cell_type": "code",
   "execution_count": 98,
   "metadata": {},
   "outputs": [
    {
     "name": "stdout",
     "output_type": "stream",
     "text": [
      "               Means of Cross Validation\n",
      "Small Growth                       0.988\n",
      "Small Neutral                      0.975\n",
      "Small Value                        0.973\n",
      "Large Growth                       0.976\n",
      "Large Neutral                      0.928\n",
      "Large Value                        0.958\n"
     ]
    }
   ],
   "source": [
    "# Cross Validation Means\n",
    "np.mean(cv_sv), np.mean(cv_sn), np.mean(cv_sg), np.mean(cv_lg), np.mean(cv_ln), np.mean(cv_lv) \n",
    "cv_means = [np.mean(cv_sv), np.mean(cv_sn), np.mean(cv_sg), np.mean(cv_lg), np.mean(cv_ln), np.mean(cv_lv)]\n",
    "\n",
    "df_cv_mean_scores = pd.DataFrame(data=cv_means, columns=['Means of Cross Validation'],index=['Small Growth','Small Neutral'\n",
    "                              ,'Small Value','Large Growth'\n",
    "                              ,'Large Neutral','Large Value']) \n",
    "print (df_cv_mean_scores)"
   ]
  },
  {
   "cell_type": "code",
   "execution_count": 99,
   "metadata": {},
   "outputs": [
    {
     "name": "stdout",
     "output_type": "stream",
     "text": [
      "               Two Standard Deviations of Cross Validation\n",
      "Small Growth                                         0.011\n",
      "Small Neutral                                        0.037\n",
      "Small Value                                          0.018\n",
      "Large Growth                                         0.019\n",
      "Large Neutral                                        0.061\n",
      "Large Value                                          0.028\n"
     ]
    }
   ],
   "source": [
    "# Two standard deviations of Cross Validation \n",
    "2*np.std(cv_sv), 2*np.std(cv_sn), 2*np.std(cv_sg), 2*np.std(cv_lg), 2*np.std(cv_ln), 2*np.std(cv_lv) \n",
    "cv_std = [2*np.std(cv_sv), 2*np.std(cv_sn), 2*np.std(cv_sg), 2*np.std(cv_lg), 2*np.std(cv_ln), 2*np.std(cv_lv)] \n",
    "df_cv_scores2 = pd.DataFrame(data=cv_std, columns=['Two Standard Deviations of Cross Validation'],index=['Small Growth','Small Neutral'\n",
    "                              ,'Small Value','Large Growth'\n",
    "                              ,'Large Neutral','Large Value']) \n",
    "print (df_cv_scores2)"
   ]
  },
  {
   "cell_type": "markdown",
   "metadata": {},
   "source": [
    "All checks on the goodness of fit pass as there are no variation in the results.\n",
    "\n",
    "\n",
    "# Ridge Regression\n",
    "\n",
    "The next model is like the multiple linear regression, but adds a cost function to penalize large coefficients so we should get similar results and it also reduces multicollinearity on interfering independent features.  One argument in the ridge function is the alpha and if we set it to zero, then it is no different than multiple linear regression so let change it to 0.1 to see any score differences.  "
   ]
  },
  {
   "cell_type": "code",
   "execution_count": 100,
   "metadata": {},
   "outputs": [],
   "source": [
    "# Function to run 6 ridge regressions with the 6 portfolios and the same independent features\n",
    "def ridge(X, Y):\n",
    "        from sklearn.linear_model import Ridge \n",
    "        ridge = Ridge(alpha=0.1, normalize=True)\n",
    "        ridge.fit(X, Y)\n",
    "        ridge.score(X, Y)\n",
    "        print (round(ridge.score(X, Y),5))"
   ]
  },
  {
   "cell_type": "code",
   "execution_count": 101,
   "metadata": {},
   "outputs": [
    {
     "name": "stdout",
     "output_type": "stream",
     "text": [
      "0.98775\n",
      "0.97309\n",
      "0.96877\n",
      "0.96231\n",
      "0.94277\n",
      "0.97049\n"
     ]
    }
   ],
   "source": [
    "small_value_ridge = ridge (X,Y_sv)\n",
    "small_neutral_ridge = ridge (X,Y_sn)\n",
    "small_growth_ridge = ridge (X,Y_sg)\n",
    "large_value_ridge = ridge (X,Y_lv)\n",
    "large_neutral_ridge = ridge (X,Y_ln)\n",
    "large_growth_ridge = ridge (X,Y_lg)"
   ]
  },
  {
   "cell_type": "markdown",
   "metadata": {},
   "source": [
    "Ridge scores are like R-Squared goodness of fit measures and as expected they are similar to the multiple linear regression.  All are near the ideal one ridge score.  "
   ]
  },
  {
   "cell_type": "markdown",
   "metadata": {},
   "source": [
    "# Random Forest\n",
    "\n",
    "Outside the classic models of linear regressions is one contemporary model of the Random Forest that is a supervised learning algorithm that processes several decision trees.  A bunch of decision of trees are created, return values are aggregated and then test cases are decided.  The implementation below goes across size and style of the U.S. stock universe with the same six portfolios on default settings.   After fitting the model with the training set followed by the test set, I then use test set for model precision."
   ]
  },
  {
   "cell_type": "code",
   "execution_count": 102,
   "metadata": {},
   "outputs": [
    {
     "name": "stdout",
     "output_type": "stream",
     "text": [
      "Cross Validation Accuracy Scores for Small Value - Training Set: 0.943(+/- 0.06)\n",
      "Cross Validation Accuracy Scores or Small Value - Test Set: 0.741(+/- 0.61)\n",
      "\n",
      "Cross Validation Accuracy Scores for Small Neutral - Training Set: 0.927(+/- 0.07)\n",
      "Cross Validation Accuracy Scores or Small Neutral - Test Set: 0.802(+/- 0.61)\n",
      "\n",
      "Cross Validation Accuracy Scores for Small Growth - Training Set: 0.936(+/- 0.06)\n",
      "Cross Validation Accuracy Scores or Small Growth - Test Set: 0.879(+/- 0.12)\n",
      "\n",
      "Cross Validation Accuracy Scores for Large Value - Training Set: 0.933(+/- 0.06)\n",
      "Cross Validation Accuracy Scores or Large Value - Test Set: 0.636(+/- 0.96)\n",
      "\n",
      "Cross Validation Accuracy Scores for Large Neutral - Training Set: 0.907(+/- 0.06)\n",
      "Cross Validation Accuracy Scores or Large Neutral - Test Set: 0.702(+/- 0.48)\n",
      "\n",
      "Cross Validation Accuracy Scores for Large Growth - Training Set: 0.907(+/- 0.06)\n",
      "Cross Validation Accuracy Scores or Large Growth - Test Set: 0.702(+/- 0.48)\n"
     ]
    }
   ],
   "source": [
    "rfc = RandomForestRegressor(random_state=42)\n",
    "rfc = rfc.fit(X, Y_lv)\n",
    "\n",
    "scores_rfc_training_sv = cross_val_score(rfc, X_train_sv, y_train_sv, cv=10)\n",
    "print('Cross Validation Accuracy Scores for Small Value - Training Set: {:.3f}(+/- {:.2f})'.format(scores_rfc_training_sv.mean(), \n",
    "                                                                      (scores_rfc_training_sv.std()*2)))\n",
    "scores_rfc_test_sv = cross_val_score(rfc, X_test_sv, y_test_sv, cv=10)\n",
    "print('Cross Validation Accuracy Scores or Small Value - Test Set: {:.3f}(+/- {:.2f})'.format(scores_rfc_test_sv.mean(), \n",
    "                                                                                 scores_rfc_test_sv.std()*2))\n",
    "\n",
    "scores_rfc_training_sn = cross_val_score(rfc, X_train_sn, y_train_sn, cv=10)\n",
    "print('\\nCross Validation Accuracy Scores for Small Neutral - Training Set: {:.3f}(+/- {:.2f})'.format(scores_rfc_training_sn.mean(), \n",
    "                                                                      (scores_rfc_training_sn.std()*2)))\n",
    "scores_rfc_test_sn = cross_val_score(rfc, X_test_sn, y_test_sn, cv=10)\n",
    "print('Cross Validation Accuracy Scores or Small Neutral - Test Set: {:.3f}(+/- {:.2f})'.format(scores_rfc_test_sn.mean(), \n",
    "                                                                                 scores_rfc_test_sn.std()*2))\n",
    "\n",
    "scores_rfc_training_sg = cross_val_score(rfc, X_train_sg, y_train_sg, cv=10)\n",
    "print('\\nCross Validation Accuracy Scores for Small Growth - Training Set: {:.3f}(+/- {:.2f})'.format(scores_rfc_training_sg.mean(), \n",
    "                                                                      (scores_rfc_training_sg.std()*2)))\n",
    "scores_rfc_test_sg = cross_val_score(rfc, X_test_sg, y_test_sg, cv=10)\n",
    "print('Cross Validation Accuracy Scores or Small Growth - Test Set: {:.3f}(+/- {:.2f})'.format(scores_rfc_test_sg.mean(), \n",
    "                                                                                 scores_rfc_test_sg.std()*2))\n",
    "\n",
    "scores_rfc_training_lv = cross_val_score(rfc, X_train_lv, y_train_lv, cv=10)\n",
    "print('\\nCross Validation Accuracy Scores for Large Value - Training Set: {:.3f}(+/- {:.2f})'.format(scores_rfc_training_lv.mean(), \n",
    "                                                                      (scores_rfc_training_lv.std()*2)))\n",
    "scores_rfc_test_lv = cross_val_score(rfc, X_test_lv, y_test_lv, cv=10)\n",
    "print('Cross Validation Accuracy Scores or Large Value - Test Set: {:.3f}(+/- {:.2f})'.format(scores_rfc_test_lv.mean(), \n",
    "                                                                                 scores_rfc_test_lv.std()*2))\n",
    "\n",
    "scores_rfc_training_ln = cross_val_score(rfc, X_train_ln, y_train_ln, cv=10)\n",
    "print('\\nCross Validation Accuracy Scores for Large Neutral - Training Set: {:.3f}(+/- {:.2f})'.format(scores_rfc_training_ln.mean(), \n",
    "                                                                      (scores_rfc_training_ln.std()*2)))\n",
    "scores_rfc_test_ln = cross_val_score(rfc, X_test_ln, y_test_ln, cv=10)\n",
    "print('Cross Validation Accuracy Scores or Large Neutral - Test Set: {:.3f}(+/- {:.2f})'.format(scores_rfc_test_ln.mean(), \n",
    "                                                                                 scores_rfc_test_ln.std()*2))\n",
    "\n",
    "scores_rfc_training_lg = cross_val_score(rfc, X_train_ln, y_train_ln, cv=10)\n",
    "print('\\nCross Validation Accuracy Scores for Large Growth - Training Set: {:.3f}(+/- {:.2f})'.format(scores_rfc_training_lg.mean(), \n",
    "                                                                      (scores_rfc_training_lg.std()*2)))\n",
    "scores_rfc_test_lg = cross_val_score(rfc, X_test_ln, y_test_ln, cv=10)\n",
    "print('Cross Validation Accuracy Scores or Large Growth - Test Set: {:.3f}(+/- {:.2f})'.format(scores_rfc_test_lg.mean(), \n",
    "                                                                                 scores_rfc_test_lg.std()*2))"
   ]
  },
  {
   "cell_type": "markdown",
   "metadata": {},
   "source": [
    "The Random Forest Regressor has reduced accuracy on the test set from 0.636(+/- 1)% for Large Value to 0.879(+/- 1)% for Small Growth so let's improve the precision with Grid Search . . ."
   ]
  },
  {
   "cell_type": "code",
   "execution_count": 103,
   "metadata": {},
   "outputs": [
    {
     "name": "stdout",
     "output_type": "stream",
     "text": [
      "Small Value Best Score: 0.8997262113962712\n",
      "Small Value Best Parameters: {'bootstrap': True, 'max_depth': 1000, 'max_features': 0.7, 'min_samples_split': 10, 'n_estimators': 500}\n",
      "\n",
      "Small Neutral Best Score: 0.9027271419213329\n",
      "Small Neutral Best Parameters: {'bootstrap': True, 'max_depth': 1000, 'max_features': 0.7, 'min_samples_split': 10, 'n_estimators': 100}\n",
      "\n",
      "Small Growth Best Score: 0.9134948194714958\n",
      "Small Growth Best Parameters: {'bootstrap': True, 'max_depth': 1000, 'max_features': 0.7, 'min_samples_split': 10, 'n_estimators': 500}\n",
      "\n",
      "Large Value Best Score: 0.8777586302450862\n",
      "Large Value Best Parameters: {'bootstrap': True, 'max_depth': 1000, 'max_features': 0.7, 'min_samples_split': 10, 'n_estimators': 10}\n",
      "\n",
      "Large Neutral Best Score: 0.861079036220581\n",
      "Large Neutral Best Parameters: {'bootstrap': True, 'max_depth': 1000, 'max_features': 0.7, 'min_samples_split': 10, 'n_estimators': 100}\n",
      "\n",
      "Large Growth Best Score: 0.928958423333478\n",
      "Large Growth Best Parameters: {'bootstrap': True, 'max_depth': 1000, 'max_features': 0.7, 'min_samples_split': 10, 'n_estimators': 500}\n"
     ]
    }
   ],
   "source": [
    "t0 = time.time()\n",
    "\n",
    "# Set of parameters to serach through for best score in Grid Search CV\n",
    "parameters = {'n_estimators':[10,100,500],\n",
    "             'max_features':[0.70],\n",
    "             'min_samples_split':[10],\n",
    "             'bootstrap':[True, False],\n",
    "             'max_depth':[1000]}\n",
    "\n",
    "# Instantiating and fitting Grid Search, then printing best score and best parameters\n",
    "grid_rfc_sv = GridSearchCV(rfc, param_grid=parameters, cv=5)\n",
    "grid_rfc_sv.fit(X,Y_sv)\n",
    "print('Small Value Best Score:', grid_rfc_sv.best_score_)\n",
    "best_params_rfc_sv = grid_rfc_sv.best_params_\n",
    "print('Small Value Best Parameters:', best_params_rfc_sv)\n",
    "\n",
    "grid_rfc_sn = GridSearchCV(rfc, param_grid=parameters, cv=5)\n",
    "grid_rfc_sn.fit(X,Y_sn)\n",
    "print('\\nSmall Neutral Best Score:', grid_rfc_sn.best_score_)\n",
    "best_params_rfc_sn = grid_rfc_sn.best_params_\n",
    "print('Small Neutral Best Parameters:', best_params_rfc_sn)\n",
    "\n",
    "grid_rfc_sg = GridSearchCV(rfc, param_grid=parameters, cv=5)\n",
    "grid_rfc_sg.fit(X,Y_sg)\n",
    "print('\\nSmall Growth Best Score:', grid_rfc_sg.best_score_)\n",
    "best_params_rfc_sg = grid_rfc_sg.best_params_\n",
    "print('Small Growth Best Parameters:', best_params_rfc_sg)\n",
    "\n",
    "grid_rfc_lv = GridSearchCV(rfc, param_grid=parameters, cv=5)\n",
    "grid_rfc_lv.fit(X,Y_lv)\n",
    "print('\\nLarge Value Best Score:', grid_rfc_lv.best_score_)\n",
    "best_params_rfc_lv = grid_rfc_lv.best_params_\n",
    "print('Large Value Best Parameters:', best_params_rfc_lv)\n",
    "\n",
    "grid_rfc_ln = GridSearchCV(rfc, param_grid=parameters, cv=5)\n",
    "grid_rfc_ln.fit(X,Y_ln)\n",
    "print('\\nLarge Neutral Best Score:', grid_rfc_ln.best_score_)\n",
    "best_params_rfc_ln = grid_rfc_sn.best_params_\n",
    "print('Large Neutral Best Parameters:', best_params_rfc_ln)\n",
    "\n",
    "grid_rfc_lg = GridSearchCV(rfc, param_grid=parameters, cv=5)\n",
    "grid_rfc_lg.fit(X,Y_lg)\n",
    "print('\\nLarge Growth Best Score:', grid_rfc_lg.best_score_)\n",
    "best_params_rfc_lg = grid_rfc_sg.best_params_\n",
    "print('Large Growth Best Parameters:', best_params_rfc_lg)"
   ]
  },
  {
   "cell_type": "markdown",
   "metadata": {},
   "source": [
    "The Random Forest scores have improved and we could continue to change the arguments in the function above, but we run the risk of crashing the Python kernel.  To take a step back, the components of multiple linear regression is made up of deterministic intercepts, slope coefficients, independent features driving the dependent variable portfolio.  The error is random and a stochastic term so not surprisingly the Random Forest comes up short in goodness of fit measures like the scores above.  If the errors of the multiple linear regression were significant with less than great goodness of fit scores, then we have a case for the Random Forest.  Multiple linear regression errors are of little concern and, not to mention, a Random Forest is like driving a car with no access to the hood because it is a black box model.  We cannot inspect each node of selection of decision trees to explain the outcome."
   ]
  },
  {
   "cell_type": "markdown",
   "metadata": {},
   "source": [
    "# Support Vector Regression\n",
    "\n",
    "The last contemporary model is a support vector regression, which is not a parametric approach unlike multiple linear regression and ridge regression.  Kernel functions are required for an algorithmic pattern analysis.  To follow the above, we use a linear kernel and a box constraint set to one to penalize outliers."
   ]
  },
  {
   "cell_type": "code",
   "execution_count": 114,
   "metadata": {},
   "outputs": [
    {
     "name": "stdout",
     "output_type": "stream",
     "text": [
      "\n",
      "\tSmall Value Support Vector Regression Coefficients:  [[1.01061344 0.92162199 0.72012032]]\n",
      "\n",
      "\tSmall Value Support Vector Regression Intercept:  [0.02505619]\n",
      "\n",
      "\tSmall Value Support Vector Regression Score:  0.9910762179730918\n",
      "\n",
      "\tSmall Neutral Support Vector Regression Coefficients:  [[0.97968226 0.82174421 0.26208995]]\n",
      "\n",
      "\tSmall Neutral Support Vector Regression Intercept:  [0.05321819]\n",
      "\n",
      "\tSmall Neutral Support Vector Regression Score:  0.9777623278608512\n",
      "\n",
      "\tSmall Growth Support Vector Regression Coefficients:  [[ 1.08157347  1.04400852 -0.22554848]]\n",
      "\n",
      "\tSmall Growth Support Vector Regression Intercept:  [-0.15533172]\n",
      "\n",
      "\tSmall Growth Support Vector Regression Score:  0.974471171908829\n",
      "\n",
      "\tLarge Value Support Vector Regression Coefficients:  [[1.07701866 0.01139388 0.77751305]]\n",
      "\n",
      "\tLarge Value Support Vector Regression Intercept:  [-0.07885045]\n",
      "\n",
      "\tLarge Value Support Vector Regression Score:  0.9684868014624349\n",
      "\n",
      "\tLarge Neutral Support Vector Regression Coefficients:  [[ 0.96172708 -0.10446819  0.22968857]]\n",
      "\n",
      "\tLarge Neutral Support Vector Regression Intercept:  [-0.01964453]\n",
      "\n",
      "\tLarge Neutral Support Vector Regression Score:  0.9462669013559522\n",
      "\n",
      "\tLarge Growth Support Vector Regression Coefficients:  [[ 1.02791542 -0.10558309 -0.2398487 ]]\n",
      "\n",
      "\tLarge Growth Support Vector Regression Intercept:  [0.05664149]\n",
      "\n",
      "\tLarge Growth Support Vector Regression Score:  0.9810100172602362\n"
     ]
    }
   ],
   "source": [
    "clf_svm_sv = svm.SVR(kernel='linear', C = 1.0)\n",
    "clf_svm_sn = svm.SVR(kernel='linear', C = 1.0)\n",
    "clf_svm_sg = svm.SVR(kernel='linear', C = 1.0)\n",
    "clf_svm_lv = svm.SVR(kernel='linear', C = 1.0)\n",
    "clf_svm_ln = svm.SVR(kernel='linear', C = 1.0)\n",
    "clf_svm_lg = svm.SVR(kernel='linear', C = 1.0)\n",
    "\n",
    "clf_svm_sv.fit(X,Y_sv)\n",
    "clf_svm_sn.fit(X,Y_sn)\n",
    "clf_svm_sg.fit(X,Y_sg)\n",
    "clf_svm_lv.fit(X,Y_lv)\n",
    "clf_svm_ln.fit(X,Y_ln)\n",
    "clf_svm_lg.fit(X,Y_lg)\n",
    "\n",
    "print('\\n\\tSmall Value Support Vector Regression Coefficients: ', clf_svm_sv.coef_)\n",
    "print('\\n\\tSmall Value Support Vector Regression Intercept: ', clf_svm_sv.intercept_)\n",
    "print('\\n\\tSmall Value Support Vector Regression Score: ', clf_svm_sv.score(X,Y_sv))\n",
    "\n",
    "print('\\n\\tSmall Neutral Support Vector Regression Coefficients: ', clf_svm_sn.coef_)\n",
    "print('\\n\\tSmall Neutral Support Vector Regression Intercept: ', clf_svm_sn.intercept_)\n",
    "print('\\n\\tSmall Neutral Support Vector Regression Score: ', clf_svm_sn.score(X,Y_sn))\n",
    "\n",
    "print('\\n\\tSmall Growth Support Vector Regression Coefficients: ', clf_svm_sg.coef_)\n",
    "print('\\n\\tSmall Growth Support Vector Regression Intercept: ', clf_svm_sg.intercept_)\n",
    "print('\\n\\tSmall Growth Support Vector Regression Score: ', clf_svm_sg.score(X,Y_sg))\n",
    "\n",
    "print('\\n\\tLarge Value Support Vector Regression Coefficients: ', clf_svm_lv.coef_)\n",
    "print('\\n\\tLarge Value Support Vector Regression Intercept: ', clf_svm_lv.intercept_)\n",
    "print('\\n\\tLarge Value Support Vector Regression Score: ', clf_svm_lv.score(X,Y_lv))\n",
    "\n",
    "print('\\n\\tLarge Neutral Support Vector Regression Coefficients: ', clf_svm_ln.coef_)\n",
    "print('\\n\\tLarge Neutral Support Vector Regression Intercept: ', clf_svm_ln.intercept_)\n",
    "print('\\n\\tLarge Neutral Support Vector Regression Score: ', clf_svm_ln.score(X,Y_ln))\n",
    "\n",
    "print('\\n\\tLarge Growth Support Vector Regression Coefficients: ', clf_svm_lg.coef_)\n",
    "print('\\n\\tLarge Growth Support Vector Regression Intercept: ', clf_svm_lg.intercept_)\n",
    "print('\\n\\tLarge Growth Support Vector Regression Score: ', clf_svm_lg.score(X,Y_lg))"
   ]
  },
  {
   "cell_type": "markdown",
   "metadata": {},
   "source": [
    "The Support Vector Regression is not that much different from Multiple Linear Regression or Ridge Regression.  The intercepts, regardless of sign, are near the point of origin with relatively small slope coefficients and near one goodness of fit score.\n",
    "\n",
    "# In Conclusion\n",
    "\n",
    "The outstanding data set that differences types in a single feature, removes class imbalance, reduces scope to feasible outcomes and elminates bias does drive strong explanatory results.  The evenly split data minus its counterparts across size and style along with the returns above the risk free return provides precision to data science models.  The nature of the U.S. stock market is overwhelming driven by the overall market return, small companies that outperform large companies and value style companies over growth.  The dominant narrative analytics for the U.S. stock market is a small value tilt narrative.  Further modeling came be done to change the fine tuning of the parameters in Random Forest and Ridge Regression, but the classic model of Multiple Linear Regression and the contemporary model of Support Vector Regression have the strongest capture of U.S. stock return phenomenon.\n",
    "\n",
    "# Citations and Data Sources\n",
    "\n",
    "Fama–French Three-Factor Model:  Fama, E. F.; French, K. R. (1993). \"Common risk factors in the returns on stocks and bonds\". Journal of Financial Economics. 33: 3. http://citeseerx.ist.psu.edu/viewdoc/download?doi=10.1.1.139.5892&rep=rep1&type=pdf\n",
    "\n",
    "U.S. Bureau of Labor Statistics:  https://www.bls.gov/\n",
    "\n",
    "Data Source:  http://mba.tuck.dartmouth.edu/pages/faculty/ken.french/ "
   ]
  },
  {
   "cell_type": "code",
   "execution_count": null,
   "metadata": {},
   "outputs": [],
   "source": []
  }
 ],
 "metadata": {
  "kernelspec": {
   "display_name": "Python 3 (ipykernel)",
   "language": "python",
   "name": "python3"
  },
  "language_info": {
   "codemirror_mode": {
    "name": "ipython",
    "version": 3
   },
   "file_extension": ".py",
   "mimetype": "text/x-python",
   "name": "python",
   "nbconvert_exporter": "python",
   "pygments_lexer": "ipython3",
   "version": "3.7.6"
  }
 },
 "nbformat": 4,
 "nbformat_minor": 4
}
