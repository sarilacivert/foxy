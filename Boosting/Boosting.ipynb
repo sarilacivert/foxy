{
 "cells": [
  {
   "cell_type": "markdown",
   "id": "c2191ad0-a37d-4710-b72a-90f2c18b2351",
   "metadata": {},
   "source": [
    "## Boosting Example"
   ]
  },
  {
   "cell_type": "code",
   "execution_count": 1,
   "id": "2a103662-0882-45dc-bc7e-c1a86726ed06",
   "metadata": {},
   "outputs": [
    {
     "name": "stdout",
     "output_type": "stream",
     "text": [
      "1.2.0\n"
     ]
    }
   ],
   "source": [
    "import xgboost\n",
    "print(xgboost.__version__)"
   ]
  },
  {
   "cell_type": "code",
   "execution_count": 2,
   "id": "c2a48f1a-394b-43d8-8dd1-27a02d5faf3c",
   "metadata": {},
   "outputs": [],
   "source": [
    "# Generate a series of numbers\n",
    "from numpy import asarray\n",
    "\n",
    "# Elementary Calculations\n",
    "from numpy import mean\n",
    "from numpy import std\n",
    "\n",
    "# Generate model parameters\n",
    "from sklearn.datasets import make_regression\n",
    "\n",
    "# Model Libary\n",
    "from xgboost import XGBRegressor\n",
    "\n",
    "# Model Validation\n",
    "from sklearn.model_selection import cross_val_score\n",
    "from sklearn.model_selection import RepeatedKFold"
   ]
  },
  {
   "cell_type": "code",
   "execution_count": 3,
   "id": "4820bccf-5f32-4eb4-8cbd-1219ab0bc2e6",
   "metadata": {},
   "outputs": [],
   "source": [
    "# define the dataset\n",
    "X, y = make_regression(n_samples=1000, n_features=10, n_informative=5, random_state=1)"
   ]
  },
  {
   "cell_type": "code",
   "execution_count": 5,
   "id": "f7cb7e1a-2bb5-4169-b400-a689bc7ffed2",
   "metadata": {},
   "outputs": [
    {
     "name": "stdout",
     "output_type": "stream",
     "text": [
      "MAE: -15.048 (1.316)\n"
     ]
    }
   ],
   "source": [
    "# evaluate the model\n",
    "model = XGBRegressor(objective='reg:squarederror')\n",
    "cv = RepeatedKFold(n_splits=10, n_repeats=3, random_state=1)\n",
    "n_scores = cross_val_score(model, X, y, scoring='neg_mean_absolute_error', cv=cv, n_jobs=-1, error_score='raise')\n",
    "print('MAE: %.3f (%.3f)' % (mean(n_scores), std(n_scores)))"
   ]
  },
  {
   "cell_type": "code",
   "execution_count": 6,
   "id": "046716f2-a8dc-490c-90ae-b424fbcd87e8",
   "metadata": {},
   "outputs": [
    {
     "data": {
      "text/plain": [
       "XGBRegressor(base_score=0.5, booster='gbtree', colsample_bylevel=1,\n",
       "             colsample_bynode=1, colsample_bytree=1, gamma=0, gpu_id=-1,\n",
       "             importance_type='gain', interaction_constraints='',\n",
       "             learning_rate=0.300000012, max_delta_step=0, max_depth=6,\n",
       "             min_child_weight=1, missing=nan, monotone_constraints='()',\n",
       "             n_estimators=100, n_jobs=0, num_parallel_tree=1, random_state=0,\n",
       "             reg_alpha=0, reg_lambda=1, scale_pos_weight=1, subsample=1,\n",
       "             tree_method='exact', validate_parameters=1, verbosity=None)"
      ]
     },
     "execution_count": 6,
     "metadata": {},
     "output_type": "execute_result"
    }
   ],
   "source": [
    "model = XGBRegressor(objective='reg:squarederror')\n",
    "model.fit(X, y)"
   ]
  },
  {
   "cell_type": "code",
   "execution_count": 8,
   "id": "2374639a-7c2b-43e5-8f89-dc89b464c960",
   "metadata": {},
   "outputs": [
    {
     "name": "stdout",
     "output_type": "stream",
     "text": [
      "Prediction: 169.154\n"
     ]
    }
   ],
   "source": [
    "# make a single prediction\n",
    "row = [2.02220122, 0.31563495, 0.82797464, 0.30620401, 0.16003707, 1.44411381, 0.87616892, -0.50446586, 0.23009474, 0.76201118]\n",
    "row = asarray(row).reshape((1, len(row)))\n",
    "yhat = model.predict(row)\n",
    "print('Prediction: %.3f' % yhat[0])"
   ]
  },
  {
   "cell_type": "markdown",
   "id": "296bf7ed-2840-4e14-9a77-ee1dd2652772",
   "metadata": {},
   "source": [
    "###  Results may vary given the stochastic nature of the algorithm or evaluation procedure, or differences in numerical precision. \n",
    "\n",
    "### Consider running the example a few times and compare the average outcome\n",
    "\n",
    "### This is one Boosting Model out of many"
   ]
  },
  {
   "cell_type": "code",
   "execution_count": null,
   "id": "d627e6f5-ec1d-421c-8a42-f98d44fdac38",
   "metadata": {},
   "outputs": [],
   "source": []
  }
 ],
 "metadata": {
  "kernelspec": {
   "display_name": "Python 3 (ipykernel)",
   "language": "python",
   "name": "python3"
  },
  "language_info": {
   "codemirror_mode": {
    "name": "ipython",
    "version": 3
   },
   "file_extension": ".py",
   "mimetype": "text/x-python",
   "name": "python",
   "nbconvert_exporter": "python",
   "pygments_lexer": "ipython3",
   "version": "3.7.6"
  }
 },
 "nbformat": 4,
 "nbformat_minor": 5
}
