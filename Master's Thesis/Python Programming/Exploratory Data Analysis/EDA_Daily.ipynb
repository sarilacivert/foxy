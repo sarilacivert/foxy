{
 "cells": [
  {
   "cell_type": "markdown",
   "id": "4224daff-ccc3-4d6d-b92e-8f7bd7b99d80",
   "metadata": {},
   "source": [
    "# Exploratory Data Analysis and Statistical Testing on Daily Data"
   ]
  },
  {
   "cell_type": "code",
   "execution_count": 16,
   "id": "6d1a410a-422d-4991-8f59-bb2c17ceede9",
   "metadata": {},
   "outputs": [],
   "source": [
    "# Data Analysis Libraries\n",
    "import numpy as np\n",
    "import pandas as pd\n",
    "\n",
    "# Data Visualization\n",
    "import matplotlib.pyplot as plt\n",
    "import seaborn as sns\n",
    "\n",
    "# Statistical Analysis Libraries\n",
    "from statsmodels.tsa.stattools import adfuller\n",
    "from scipy.stats import jarque_bera\n",
    "\n",
    "# Display preferences.\n",
    "%matplotlib inline\n",
    "pd.options.display.float_format = '{:.3f}'.format\n",
    "\n",
    "# Suppress annoying harmless error.\n",
    "import warnings\n",
    "warnings.filterwarnings(\n",
    "    action=\"ignore\",\n",
    "    module= \"scipy\",    \n",
    "    message=\"^internal gelsd\"\n",
    ")\n",
    "warnings.filterwarnings(\n",
    "    action=\"ignore\",\n",
    "    module= \"numpy\",    \n",
    "    message=\"^internal gelsd\"\n",
    ")"
   ]
  },
  {
   "cell_type": "code",
   "execution_count": 2,
   "id": "9ec217a6-a2a9-4f66-b313-893a1e3fd313",
   "metadata": {},
   "outputs": [],
   "source": [
    "df = pd.read_csv('daily10.csv')"
   ]
  },
  {
   "cell_type": "code",
   "execution_count": 3,
   "id": "3a598b20-c3e2-4c46-ae43-69fbbee84544",
   "metadata": {},
   "outputs": [],
   "source": [
    "df.dropna(inplace=True)"
   ]
  },
  {
   "cell_type": "code",
   "execution_count": 4,
   "id": "30d22df2-6de5-4b22-aa57-59111e7dd7f3",
   "metadata": {},
   "outputs": [
    {
     "name": "stdout",
     "output_type": "stream",
     "text": [
      "<class 'pandas.core.frame.DataFrame'>\n",
      "Int64Index: 15130 entries, 0 to 15129\n",
      "Data columns (total 2 columns):\n",
      " #   Column  Non-Null Count  Dtype  \n",
      "---  ------  --------------  -----  \n",
      " 0   DATE    15130 non-null  object \n",
      " 1   DGS10   15130 non-null  float64\n",
      "dtypes: float64(1), object(1)\n",
      "memory usage: 354.6+ KB\n"
     ]
    }
   ],
   "source": [
    "df.info()"
   ]
  },
  {
   "cell_type": "code",
   "execution_count": 5,
   "id": "e5be71fa-31ae-49b4-9426-96da871c1785",
   "metadata": {},
   "outputs": [
    {
     "data": {
      "text/plain": [
       "['ds', 'y']"
      ]
     },
     "execution_count": 5,
     "metadata": {},
     "output_type": "execute_result"
    }
   ],
   "source": [
    "df.columns = ['ds', 'y']\n",
    "list(df.columns.values)"
   ]
  },
  {
   "cell_type": "code",
   "execution_count": 6,
   "id": "53f0928d-1ea1-42d2-a032-145b2e47af46",
   "metadata": {},
   "outputs": [
    {
     "data": {
      "text/html": [
       "<div>\n",
       "<style scoped>\n",
       "    .dataframe tbody tr th:only-of-type {\n",
       "        vertical-align: middle;\n",
       "    }\n",
       "\n",
       "    .dataframe tbody tr th {\n",
       "        vertical-align: top;\n",
       "    }\n",
       "\n",
       "    .dataframe thead th {\n",
       "        text-align: right;\n",
       "    }\n",
       "</style>\n",
       "<table border=\"1\" class=\"dataframe\">\n",
       "  <thead>\n",
       "    <tr style=\"text-align: right;\">\n",
       "      <th></th>\n",
       "      <th>y</th>\n",
       "    </tr>\n",
       "  </thead>\n",
       "  <tbody>\n",
       "    <tr>\n",
       "      <th>count</th>\n",
       "      <td>15130.000</td>\n",
       "    </tr>\n",
       "    <tr>\n",
       "      <th>mean</th>\n",
       "      <td>5.919</td>\n",
       "    </tr>\n",
       "    <tr>\n",
       "      <th>std</th>\n",
       "      <td>2.992</td>\n",
       "    </tr>\n",
       "    <tr>\n",
       "      <th>min</th>\n",
       "      <td>0.520</td>\n",
       "    </tr>\n",
       "    <tr>\n",
       "      <th>25%</th>\n",
       "      <td>3.900</td>\n",
       "    </tr>\n",
       "    <tr>\n",
       "      <th>50%</th>\n",
       "      <td>5.720</td>\n",
       "    </tr>\n",
       "    <tr>\n",
       "      <th>75%</th>\n",
       "      <td>7.670</td>\n",
       "    </tr>\n",
       "    <tr>\n",
       "      <th>max</th>\n",
       "      <td>15.840</td>\n",
       "    </tr>\n",
       "  </tbody>\n",
       "</table>\n",
       "</div>"
      ],
      "text/plain": [
       "              y\n",
       "count 15130.000\n",
       "mean      5.919\n",
       "std       2.992\n",
       "min       0.520\n",
       "25%       3.900\n",
       "50%       5.720\n",
       "75%       7.670\n",
       "max      15.840"
      ]
     },
     "execution_count": 6,
     "metadata": {},
     "output_type": "execute_result"
    }
   ],
   "source": [
    "df.describe()"
   ]
  },
  {
   "cell_type": "code",
   "execution_count": 7,
   "id": "61db54b8-5493-41ae-962d-78ebe14678e5",
   "metadata": {},
   "outputs": [
    {
     "data": {
      "text/html": [
       "<div>\n",
       "<style scoped>\n",
       "    .dataframe tbody tr th:only-of-type {\n",
       "        vertical-align: middle;\n",
       "    }\n",
       "\n",
       "    .dataframe tbody tr th {\n",
       "        vertical-align: top;\n",
       "    }\n",
       "\n",
       "    .dataframe thead th {\n",
       "        text-align: right;\n",
       "    }\n",
       "</style>\n",
       "<table border=\"1\" class=\"dataframe\">\n",
       "  <thead>\n",
       "    <tr style=\"text-align: right;\">\n",
       "      <th></th>\n",
       "      <th>ds</th>\n",
       "      <th>y</th>\n",
       "    </tr>\n",
       "  </thead>\n",
       "  <tbody>\n",
       "    <tr>\n",
       "      <th>0</th>\n",
       "      <td>1962-01-02</td>\n",
       "      <td>4.060</td>\n",
       "    </tr>\n",
       "    <tr>\n",
       "      <th>1</th>\n",
       "      <td>1962-01-03</td>\n",
       "      <td>4.030</td>\n",
       "    </tr>\n",
       "    <tr>\n",
       "      <th>2</th>\n",
       "      <td>1962-01-04</td>\n",
       "      <td>3.990</td>\n",
       "    </tr>\n",
       "    <tr>\n",
       "      <th>3</th>\n",
       "      <td>1962-01-05</td>\n",
       "      <td>4.020</td>\n",
       "    </tr>\n",
       "    <tr>\n",
       "      <th>4</th>\n",
       "      <td>1962-01-08</td>\n",
       "      <td>4.030</td>\n",
       "    </tr>\n",
       "  </tbody>\n",
       "</table>\n",
       "</div>"
      ],
      "text/plain": [
       "           ds     y\n",
       "0  1962-01-02 4.060\n",
       "1  1962-01-03 4.030\n",
       "2  1962-01-04 3.990\n",
       "3  1962-01-05 4.020\n",
       "4  1962-01-08 4.030"
      ]
     },
     "execution_count": 7,
     "metadata": {},
     "output_type": "execute_result"
    }
   ],
   "source": [
    "df.head()"
   ]
  },
  {
   "cell_type": "code",
   "execution_count": 8,
   "id": "0ff6826d-947a-4341-a646-8286930332de",
   "metadata": {},
   "outputs": [
    {
     "data": {
      "text/html": [
       "<div>\n",
       "<style scoped>\n",
       "    .dataframe tbody tr th:only-of-type {\n",
       "        vertical-align: middle;\n",
       "    }\n",
       "\n",
       "    .dataframe tbody tr th {\n",
       "        vertical-align: top;\n",
       "    }\n",
       "\n",
       "    .dataframe thead th {\n",
       "        text-align: right;\n",
       "    }\n",
       "</style>\n",
       "<table border=\"1\" class=\"dataframe\">\n",
       "  <thead>\n",
       "    <tr style=\"text-align: right;\">\n",
       "      <th></th>\n",
       "      <th>ds</th>\n",
       "      <th>y</th>\n",
       "    </tr>\n",
       "  </thead>\n",
       "  <tbody>\n",
       "    <tr>\n",
       "      <th>15125</th>\n",
       "      <td>2022-07-25</td>\n",
       "      <td>2.810</td>\n",
       "    </tr>\n",
       "    <tr>\n",
       "      <th>15126</th>\n",
       "      <td>2022-07-26</td>\n",
       "      <td>2.810</td>\n",
       "    </tr>\n",
       "    <tr>\n",
       "      <th>15127</th>\n",
       "      <td>2022-07-27</td>\n",
       "      <td>2.780</td>\n",
       "    </tr>\n",
       "    <tr>\n",
       "      <th>15128</th>\n",
       "      <td>2022-07-28</td>\n",
       "      <td>2.680</td>\n",
       "    </tr>\n",
       "    <tr>\n",
       "      <th>15129</th>\n",
       "      <td>2022-07-29</td>\n",
       "      <td>2.670</td>\n",
       "    </tr>\n",
       "  </tbody>\n",
       "</table>\n",
       "</div>"
      ],
      "text/plain": [
       "               ds     y\n",
       "15125  2022-07-25 2.810\n",
       "15126  2022-07-26 2.810\n",
       "15127  2022-07-27 2.780\n",
       "15128  2022-07-28 2.680\n",
       "15129  2022-07-29 2.670"
      ]
     },
     "execution_count": 8,
     "metadata": {},
     "output_type": "execute_result"
    }
   ],
   "source": [
    "df.tail()"
   ]
  },
  {
   "cell_type": "code",
   "execution_count": 14,
   "id": "abe6016a-5224-4d8b-90ec-51f8171f4642",
   "metadata": {},
   "outputs": [
    {
     "data": {
      "image/png": "[encoded data removed]",
      "text/plain": [
       "<Figure size 864x594 with 1 Axes>"
      ]
     },
     "metadata": {
      "needs_background": "light"
     },
     "output_type": "display_data"
    }
   ],
   "source": [
    "plt.plot(df['y'], linewidth=2, color='orangered')\n",
    "plt.rcParams[\"figure.figsize\"] = (12,8.25)\n",
    "plt.ylabel('Yield or Rate of Return', fontweight='bold', fontsize = 16, color='orangered')\n",
    "plt.xlabel('January 2, 1962 to July 29, 2022',fontweight='bold', fontsize = 16, color='orangered')\n",
    "plt.title('Daily Market Yield on \\nU.S. Treasury Securities at 10-Year Constant Maturity', fontweight='bold', fontsize = 16, color='orangered')\n",
    "plt.show()"
   ]
  },
  {
   "cell_type": "code",
   "execution_count": 15,
   "id": "9315a26a-fca5-4b00-8124-a3c0a3913279",
   "metadata": {},
   "outputs": [
    {
     "data": {
      "image/png": "[encoded data removed]",
      "text/plain": [
       "<Figure size 864x594 with 1 Axes>"
      ]
     },
     "metadata": {
      "needs_background": "light"
     },
     "output_type": "display_data"
    }
   ],
   "source": [
    "sns.histplot(df['y'], color = 'orangered')\n",
    "plt.rcParams[\"figure.figsize\"] = (12,8.25)\n",
    "plt.ylabel('Count', fontweight='bold', fontsize = 16, color='orangered')\n",
    "plt.xlabel('January 2, 1962 to July 29, 2022',fontweight='bold', fontsize = 16, color='orangered')\n",
    "plt.title('Daily Market Yield on \\nU.S. Treasury Securities at 10-Year Constant Maturity', fontweight='bold', fontsize = 16, color='orangered')\n",
    "plt.show()"
   ]
  },
  {
   "cell_type": "markdown",
   "id": "9de7f3cd-d527-4c41-b2a8-2c98fee65042",
   "metadata": {},
   "source": [
    "## Statistical Testing"
   ]
  },
  {
   "cell_type": "markdown",
   "id": "c34b73f3-76c7-496e-b90f-c54e8fc54a40",
   "metadata": {},
   "source": [
    "### Test run for Stationarity\n",
    "\n",
    "#### Is the first two moments of the distribution stable?"
   ]
  },
  {
   "cell_type": "code",
   "execution_count": 11,
   "id": "c6a245a2-3274-4ef7-b575-3ce8540c731f",
   "metadata": {},
   "outputs": [
    {
     "name": "stdout",
     "output_type": "stream",
     "text": [
      "ADF Statistic: -1.536046\n",
      "p-value: 0.515611\n",
      "Critical Values:\n",
      "\t1%: -3.431\n",
      "\t5%: -2.862\n",
      "\t10%: -2.567\n"
     ]
    }
   ],
   "source": [
    "# test run for stationarity\n",
    "result = adfuller(df['y'])\n",
    "\n",
    "# print the results\n",
    "print ('ADF Statistic: %f' % result[0])\n",
    "print ('p-value: %f' % result[1])\n",
    "print ('Critical Values:')\n",
    "\n",
    "for key, value in result[4].items():\n",
    "  print('\\t%s: %.3f' % (key,value))"
   ]
  },
  {
   "cell_type": "markdown",
   "id": "d38287aa-f42b-4f1b-bcad-079167a6e4fb",
   "metadata": {},
   "source": [
    "#### No, the first two moments of distribution are not stable because we fail to reject the null hypothesis as the p - value is greater than 0.05.\n",
    "\n",
    "#### However, the ADF Statistic is close to zero and the cascade of critical values show that the non - stationary is not very strong.\n",
    "\n",
    "#### There is some stable stationary parts of the dataset, but less than the non - stationary parts."
   ]
  },
  {
   "cell_type": "markdown",
   "id": "2a824978-5949-4c55-9c35-f62d8c3249bf",
   "metadata": {},
   "source": [
    "### Test run for Normality\n",
    "\n",
    "#### Is the dataset normally distributed, and if not, then how far is it from a normal distribution?"
   ]
  },
  {
   "cell_type": "code",
   "execution_count": 12,
   "id": "04805509-438a-47b3-9695-a3f01004797b",
   "metadata": {},
   "outputs": [
    {
     "name": "stdout",
     "output_type": "stream",
     "text": [
      "Statistics=1120.389, p=0.000\n",
      "Sample does not look Gaussian (reject H0)\n"
     ]
    }
   ],
   "source": [
    "# normality test\n",
    "stat, p = jarque_bera(df['y'])\n",
    "print('Statistics=%.3f, p=%.3f' % (stat, p))\n",
    "\n",
    "# interpret\n",
    "alpha = 0.05\n",
    "if p > alpha:\n",
    "    print('Sample looks Gaussian (fail to reject H0)')\n",
    "else:\n",
    "    print('Sample does not look Gaussian (reject H0)')"
   ]
  },
  {
   "cell_type": "code",
   "execution_count": 13,
   "id": "e20e1b2d-670f-4846-ad30-3b2c59839660",
   "metadata": {},
   "outputs": [
    {
     "data": {
      "text/plain": [
       "(0.657296272471849, 0.2227498311093825)"
      ]
     },
     "execution_count": 13,
     "metadata": {},
     "output_type": "execute_result"
    }
   ],
   "source": [
    "df['y'].skew(), df['y'].kurt()"
   ]
  },
  {
   "cell_type": "markdown",
   "id": "bb29ac5c-c477-48d8-a35f-923ada71248d",
   "metadata": {},
   "source": [
    "#### In a similar fashion to stationarity, the dataset is non - normal, but the JB statistic is far from zero.\n",
    "\n",
    "#### There is some level of normality in the dataset as both the third and fourth moments of distribution are near zero.\n",
    "\n",
    "#### Overall, taking the two tests above shows regime switching in the dataset as past behavior may differ from future behavior."
   ]
  },
  {
   "cell_type": "code",
   "execution_count": null,
   "id": "5237b1ae-6d5e-404a-b920-b777cfb0678c",
   "metadata": {},
   "outputs": [],
   "source": []
  }
 ],
 "metadata": {
  "kernelspec": {
   "display_name": "Python 3 (ipykernel)",
   "language": "python",
   "name": "python3"
  },
  "language_info": {
   "codemirror_mode": {
    "name": "ipython",
    "version": 3
   },
   "file_extension": ".py",
   "mimetype": "text/x-python",
   "name": "python",
   "nbconvert_exporter": "python",
   "pygments_lexer": "ipython3",
   "version": "3.7.6"
  }
 },
 "nbformat": 4,
 "nbformat_minor": 5
}
